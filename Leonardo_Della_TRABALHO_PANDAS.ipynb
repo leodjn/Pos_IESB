{
  "nbformat": 4,
  "nbformat_minor": 0,
  "metadata": {
    "colab": {
      "name": "Leonardo Della TRABALHO_PANDAS.ipynb",
      "provenance": [],
      "collapsed_sections": [],
      "toc_visible": true,
      "include_colab_link": true
    },
    "kernelspec": {
      "display_name": "Python 3",
      "name": "python3"
    },
    "language_info": {
      "name": "python"
    }
  },
  "cells": [
    {
      "cell_type": "markdown",
      "metadata": {
        "id": "view-in-github",
        "colab_type": "text"
      },
      "source": [
        "<a href=\"https://colab.research.google.com/github/leodjn/Pos_IESB/blob/main/Leonardo_Della_TRABALHO_PANDAS.ipynb\" target=\"_parent\"><img src=\"https://colab.research.google.com/assets/colab-badge.svg\" alt=\"Open In Colab\"/></a>"
      ]
    },
    {
      "cell_type": "markdown",
      "metadata": {
        "id": "og2if4xNIjnl"
      },
      "source": [
        "# Análise - DIESEL\n",
        "\n",
        "Diesel é um óleo derivado da destilação do petróleo bruto usado como combustível nos motores a diesel/gasóleo, constituído basicamente por hidrocarbonetos. O óleo diesel é um composto formado principalmente por átomos de carbono, hidrogênio e em baixas concentrações por enxofre, nitrogênio e oxigênio. O diesel é selecionado de acordo com suas características de ignição e de escoamento, adequadas ao funcionamento dos motores ciclo diesel. É um produto pouco inflamável, medianamente tóxico, pouco volátil, límpido, isento de material em suspensão. \n",
        "\n",
        "![](https://lh3.googleusercontent.com/proxy/GIcndAIqPJ49RV3SUseSaPZiIpCB99AL-YFfdsNX8jBfxXj5kkwo8nIUZyxc5dx46xIVYdv7wltSblQQRHgOAH_rbstukwpUvJk-FtFHfFXajR8FVJJgCfup1qGKgFnEFgv7_4OdJaPyTqVAbm1R7LCzzOA)\n",
        "\n",
        "No Brasil há predominância do transporte rodoviário, tanto de passageiros quanto de carga. Por esta razão, o óleo diesel é o derivado de petróleo mais consumido no país. Qualquer crescimento econômico demanda uma alta na produção e venda de Diesel. A Agência Nacional do Petróleo, Gás Natural e Biocombustíveis (ANP) autoriza a utilização do óleo diesel para outras aplicações, denominado off road, e prevê sua futura regulamentação:\n",
        "\n",
        "\n",
        ">*Art. 16. O uso de óleo diesel para fins ferroviários, agropecuários, industrial e geração de energia elétrica está autorizado até que se estabeleça especificação para uso não rodoviário (off road).*\n",
        "\n",
        "Entender correntamente o comportamento de uso do Diesel no Brasil é necessário para prever sua demanda e abastecer o crescimento do país. A empresa XPTO é uma operadora de venda de diesel no Brasil, com mais de 300 postos de combustíveis pelo país ela entende que para criação de estratégias de sucesso são necessários dados. Por isso, ela contratou um cientista de dados (você) para dar insights sobre a demanda nacional de Diesel no Brasil.\n",
        "\n",
        "Para montar um entregável para o seu chefe será necessário responder as seguintes questões:"
      ]
    },
    {
      "cell_type": "markdown",
      "metadata": {
        "id": "RqE8NU92TnZy"
      },
      "source": [
        "1. Qual é o tipo de combustível diesel mais vendido a cada ano?\n",
        "2. Levando em consideração somente o ÓLEO DIESEL S-10, qual o estado da região norte teve a maior média anual de compra para o ano de 2015?\n",
        "3. Considerando somente o ÓLEO DIESEL S-500, encontre os outlier nas vendas de Março. Utilize o [método IQR](https://online.stat.psu.edu/stat200/lesson/3/3.2).\n",
        "4. Cálcule o total de vendas (independente do tipo de diesel) para cada ano e encontre o maior aumento percentual.\n",
        "5. Selecione um tipo de combustível, um ano e um Estado a sua escolha, demonstre a diferença percentual de venda para cada trimestre do ano.\n",
        "6. Colete dados populacionais e demonstre se existe uma correlação entre a medição populacional anual e a venda total de diesel S-10 anual.(Dica: [o IBGE é uma boa fonte](https://www.ibge.gov.br/apps/populacao/projecao/index.html))\n",
        "7. É seguro dizer que quanto maior a população de um estado mais diesel será vendido? Justifique sua resposta com dados.\n",
        "8. Qual foi o custo mensal de diesel S-10 no DF para o ano de 2020.Considere a média dos preços coletados e que o dataset de venda apresenta dados em metros cúbicos (e o de preço em R\\$/litro).\n",
        "9. Qual estado em 2020 gastou mais com diesel S-10 em relação a população? (um estado com 10 pessoas e que gasta 1000 reais com diesel em 2020 tem uma relação de R$ 100 reais gastos com diesel por pessoa).\n",
        "\n",
        "\n",
        "## Datasets\n",
        "\n",
        "dataset de venda de diesel: [link](https://www.gov.br/anp/pt-br/centrais-de-conteudo/dados-abertos/arquivos/vdpb/vct/vendas-oleo-diesel-tipo-m3-2013-2020.csv)\n",
        "\n",
        "\n",
        "datasets de preço de diesel (considere a coluna 'Valor de Venda' e os datasets com o nome parecido com esse \"Oleo Diesel S-500 e S-10 + GNV - \\<MES>/2020\"): [link](https://dados.gov.br/dataset/serie-historica-de-precos-de-combustiveis-por-revenda)"
      ]
    },
    {
      "cell_type": "markdown",
      "metadata": {
        "id": "9BXjwsxL4zHf"
      },
      "source": [
        "Resolução"
      ]
    },
    {
      "cell_type": "markdown",
      "metadata": {
        "id": "YFiGIhc4uwCq"
      },
      "source": [
        "QUESTÃO 1 - Qual é o tipo de combustível diesel mais vendido a cada ano?"
      ]
    },
    {
      "cell_type": "code",
      "metadata": {
        "colab": {
          "base_uri": "https://localhost:8080/"
        },
        "id": "5HP32dp6uxB5",
        "outputId": "7df414b1-42ac-45bb-a278-a333523991d1"
      },
      "source": [
        "import pandas as pd\n",
        "\n",
        "df = pd.read_csv('https://github.com/leodjn/Pos_IESB/raw/main/base-diesel-2013-2020.csv', sep=';', decimal=',')\n",
        "pd.set_option('display.float_format', lambda x: '%.2f' % x)\n",
        "\n",
        "df['TOTAL'] = df['TOTAL'].astype(float)\n",
        "df['ANO'] = df['ANO'].astype(object)\n",
        "\n",
        "dfc = df.drop([\"REGIÃO\", 'ESTADO', 'UNIDADE', 'Jan','Fev',\t'Mar',\t'Abr',\t'Mai',\t'Jun',\t'Jul',\t'Ago',\t'Set',\t'Out',\t'Nov'\t,'Dez'], axis=1)\n",
        "dfg = dfc.groupby(by=['COMBUSTÍVEL','ANO']).agg(TOTAL_VENDAS=('TOTAL','sum')).reset_index()\n",
        "dfb = dfg.groupby(by=['ANO']).apply(lambda z : z.sort_values(['TOTAL_VENDAS'],ascending=[False]).head(1))\n",
        "print(dfb.rename(columns={'COMBUSTÍVEL':'TIPO DE DIESEL MAIS VENDIDO', 'TOTAL_VENDAS':'TOTAL DE VENDAS NO ANO'}))"
      ],
      "execution_count": 1,
      "outputs": [
        {
          "output_type": "stream",
          "text": [
            "        TIPO DE DIESEL MAIS VENDIDO   ANO  TOTAL DE VENDAS NO ANO\n",
            "ANO                                                              \n",
            "2013 32          ÓLEO DIESEL S-500   2013             24627904.35\n",
            "2014 33          ÓLEO DIESEL S-500   2014             43130158.04\n",
            "2015 34          ÓLEO DIESEL S-500   2015             38813349.86\n",
            "2016 35          ÓLEO DIESEL S-500   2016             35140066.91\n",
            "2017 36          ÓLEO DIESEL S-500   2017             33968705.44\n",
            "2018 37          ÓLEO DIESEL S-500   2018             32860853.92\n",
            "2019 38          ÓLEO DIESEL S-500   2019             29412866.44\n",
            "2020 23           ÓLEO DIESEL S-10   2020             30183162.04\n"
          ],
          "name": "stdout"
        }
      ]
    },
    {
      "cell_type": "markdown",
      "metadata": {
        "id": "sUchyOTGF9Vj"
      },
      "source": [
        "QUESTÃO 2 - Levando em consideração somente o ÓLEO DIESEL S-10, qual o estado da região norte teve a maior média anual de compra para o ano de 2015?"
      ]
    },
    {
      "cell_type": "code",
      "metadata": {
        "colab": {
          "base_uri": "https://localhost:8080/"
        },
        "id": "sXQJ72wUF96Y",
        "outputId": "2918750a-e29e-4b2c-eb6e-653bbbc13538"
      },
      "source": [
        "import pandas as pd\n",
        "\n",
        "df = pd.read_csv('https://github.com/leodjn/Pos_IESB/raw/main/base-diesel-2013-2020.csv', sep=';', decimal=',')\n",
        "pd.set_option('display.float_format', lambda x: '%.2f' % x)\n",
        "\n",
        "df['TOTAL'] = df['TOTAL'].astype(float)\n",
        "df['ANO'] = df['ANO'].astype(object)\n",
        "\n",
        "dfc = df.drop(['UNIDADE','TOTAL'], axis=1)\n",
        "\n",
        "filtro1_reg = dfc[dfc.REGIÃO.eq('REGIÃO NORTE')].reset_index()\n",
        "filtro1_ano = filtro1_reg[filtro1_reg.ANO.eq(2015)].reset_index()\n",
        "filtro1_com = filtro1_ano[filtro1_ano.COMBUSTÍVEL.eq('ÓLEO DIESEL S-10 ')]\n",
        "\n",
        "filtro1_com['MEDIA'] = filtro1_com.mean(axis=1).copy()\n",
        "\n",
        "filtro1_com2 = filtro1_com.drop([\"REGIÃO\", 'Jan','Fev',\t'Mar',\t'Abr',\t'Mai',\t'Jun',\t'Jul',\t'Ago',\t'Set',\t'Out',\t'Nov'\t,'Dez'], axis=1)\n",
        "print(filtro1_com2.sort_values(['MEDIA'],ascending=[False]).head(1).rename(columns={'MEDIA':'MAIOR MEDIA ANUAL'}).reset_index)"
      ],
      "execution_count": 2,
      "outputs": [
        {
          "output_type": "stream",
          "text": [
            "<bound method DataFrame.reset_index of    level_0  index        COMBUSTÍVEL   ANO ESTADO  MAIOR MEDIA ANUAL\n",
            "4       74    274  ÓLEO DIESEL S-10   2015   PARÁ           54829.03>\n"
          ],
          "name": "stdout"
        },
        {
          "output_type": "stream",
          "text": [
            "/usr/local/lib/python3.7/dist-packages/ipykernel_launcher.py:15: SettingWithCopyWarning: \n",
            "A value is trying to be set on a copy of a slice from a DataFrame.\n",
            "Try using .loc[row_indexer,col_indexer] = value instead\n",
            "\n",
            "See the caveats in the documentation: https://pandas.pydata.org/pandas-docs/stable/user_guide/indexing.html#returning-a-view-versus-a-copy\n",
            "  from ipykernel import kernelapp as app\n"
          ],
          "name": "stderr"
        }
      ]
    },
    {
      "cell_type": "markdown",
      "metadata": {
        "id": "lldQEahmHVkn"
      },
      "source": [
        "QUESTÃO 3 - Considerando somente o ÓLEO DIESEL S-500, encontre os outlier nas vendas de Março. Utilize o método IQR."
      ]
    },
    {
      "cell_type": "code",
      "metadata": {
        "id": "isJzchoHHWRP",
        "colab": {
          "base_uri": "https://localhost:8080/"
        },
        "outputId": "f29cb393-4a0f-4c5c-df63-f3a229bf62fb"
      },
      "source": [
        "import pandas as pd\n",
        "\n",
        "df = pd.read_csv('https://github.com/leodjn/Pos_IESB/raw/main/base-diesel-2013-2020.csv', sep=';', decimal=',')\n",
        "pd.set_option('display.float_format', lambda x: '%.2f' % x)\n",
        "\n",
        "df['TOTAL'] = df['TOTAL'].astype(float)\n",
        "df['ANO'] = df['ANO'].astype(object)\n",
        "\n",
        "dfc = df.drop(['UNIDADE','TOTAL','Jan','Fev',\t'Abr',\t'Mai',\t'Jun',\t'Jul',\t'Ago',\t'Set',\t'Out',\t'Nov'\t,'Dez'], axis=1)\n",
        "dfd = dfc[dfc.COMBUSTÍVEL.eq('ÓLEO DIESEL S-500 ')]\n",
        "\n",
        "q1 = dfd['Mar'].quantile(0.25)                 \n",
        "q3 = dfd['Mar'].quantile(0.75)\n",
        "iqr = q3 - q1\n",
        "dff = dfd.query('(@q1 - 1.5 * @iqr) <= Mar <= (@q3 + 1.5 * @iqr)')\n",
        "print(dff.sort_values(['Mar'],ascending=[False]).rename(columns={'Mar':'OUTLIERS DE MARÇO'}))"
      ],
      "execution_count": 3,
      "outputs": [
        {
          "output_type": "stream",
          "text": [
            "            COMBUSTÍVEL   ANO  ...             ESTADO OUTLIERS DE MARÇO\n",
            "988  ÓLEO DIESEL S-500   2020  ...       MINAS GERAIS         296150.56\n",
            "992  ÓLEO DIESEL S-500   2020  ...             PARANÁ         292131.28\n",
            "857  ÓLEO DIESEL S-500   2019  ...             PARANÁ         291240.30\n",
            "184  ÓLEO DIESEL S-500   2014  ...  RIO GRANDE DO SUL         281121.92\n",
            "454  ÓLEO DIESEL S-500   2016  ...  RIO GRANDE DO SUL         260186.42\n",
            "..                  ...   ...  ...                ...               ...\n",
            "29   ÓLEO DIESEL S-500   2013  ...           AMAZONAS            151.00\n",
            "32   ÓLEO DIESEL S-500   2013  ...              AMAPÁ              0.00\n",
            "28   ÓLEO DIESEL S-500   2013  ...               ACRE              0.00\n",
            "30   ÓLEO DIESEL S-500   2013  ...            RORAIMA              0.00\n",
            "53   ÓLEO DIESEL S-500   2013  ...   DISTRITO FEDERAL              0.00\n",
            "\n",
            "[194 rows x 5 columns]\n"
          ],
          "name": "stdout"
        }
      ]
    },
    {
      "cell_type": "markdown",
      "metadata": {
        "id": "sYQphCn5HY73"
      },
      "source": [
        "QUESTÂO 4 - Calcule o total de vendas (independente do tipo de diesel) para cada ano e encontre o maior aumento percentual."
      ]
    },
    {
      "cell_type": "code",
      "metadata": {
        "id": "VQiLQtQxHcpB",
        "colab": {
          "base_uri": "https://localhost:8080/"
        },
        "outputId": "1f26209b-71b6-4413-84a1-f72c20a5425e"
      },
      "source": [
        "import pandas as pd\n",
        "\n",
        "df = pd.read_csv('https://github.com/leodjn/Pos_IESB/raw/main/base-diesel-2013-2020.csv', sep=';', decimal=',')\n",
        "pd.set_option('display.float_format', lambda x: '%.2f' % x)\n",
        "\n",
        "df['TOTAL'] = df['TOTAL'].astype(float)\n",
        "df['ANO'] = df['ANO'].astype(object)\n",
        "\n",
        "dfc = df.drop(['UNIDADE', 'ESTADO', 'REGIÃO', 'COMBUSTÍVEL','Jan','Fev',\t'Mar', 'Abr',\t'Mai',\t'Jun',\t'Jul',\t'Ago',\t'Set',\t'Out',\t'Nov'\t,'Dez'], axis=1)\n",
        "\n",
        "dfg = dfc.groupby(by=['ANO']).agg(TOTAL_VENDAS=('TOTAL','sum')).reset_index()\n",
        "dfor = dfg.sort_values(['ANO'],ascending=[False])\n",
        "dfdif = dfor.set_index('ANO').pct_change(axis=0);\n",
        "\n",
        "dffim = dfdif.sort_values(['TOTAL_VENDAS'],ascending=[False]).head(1).rename(columns={'TOTAL_VENDAS':'AUMENTO PERCENTUAL'})\n",
        "print('MAIOR AUMENTO PERCENTUAL EM RELAÇÃO AO ANO ANTERIOR:')\n",
        "print(dffim);"
      ],
      "execution_count": 4,
      "outputs": [
        {
          "output_type": "stream",
          "text": [
            "MAIOR AUMENTO PERCENTUAL EM RELAÇÃO AO ANO ANTERIOR:\n",
            "      AUMENTO PERCENTUAL\n",
            "ANO                     \n",
            "2015                0.05\n"
          ],
          "name": "stdout"
        }
      ]
    },
    {
      "cell_type": "markdown",
      "metadata": {
        "id": "QA47SCGIHc9H"
      },
      "source": [
        "QUESTÃO 5 - Selecione um tipo de combustível, um ano e um Estado a sua escolha, demonstre a diferença percentual de venda para cada trimestre do ano.\n"
      ]
    },
    {
      "cell_type": "code",
      "metadata": {
        "id": "RppQnI6uHhuv",
        "colab": {
          "base_uri": "https://localhost:8080/"
        },
        "outputId": "2a9fe759-b53c-47a3-9a8a-c4eaf0291f49"
      },
      "source": [
        "import pandas as pd\n",
        "\n",
        "df = pd.read_csv('https://github.com/leodjn/Pos_IESB/raw/main/base-diesel-2013-2020.csv', sep=';', decimal=',')\n",
        "pd.set_option('display.float_format', lambda x: '%.2f' % x)\n",
        "\n",
        "df['TOTAL'] = df['TOTAL'].astype(float)\n",
        "df['ANO'] = df['ANO'].astype(object)\n",
        "\n",
        "dfc = df.drop(['UNIDADE', 'REGIÃO' ], axis=1)\n",
        "\n",
        "dfc_com = dfc[dfc.COMBUSTÍVEL.eq('ÓLEO DIESEL S-10 ')].copy()\n",
        "dfc_ano = dfc_com[dfc_com.ANO.eq(2019)].copy()\n",
        "dfc_est = dfc_ano[dfc_ano.ESTADO.eq('SÃO PAULO')].copy()\n",
        "\n",
        "trime={'1° Trimestre':['Jan','Fev','Mar'],'2° Trimestre':['Abr','Mai','Jun'],'3° Trimestre':['Jul','Ago','Set'],'4° Trimestre':['Out','Nov','Dez']}\n",
        "\n",
        "for trimestre in trime:\n",
        "  dfc_est[trimestre]=dfc_est[trime[trimestre][0]]+dfc_est[trime[trimestre][1]]+dfc_est[trime[trimestre][2]]\n",
        "\n",
        "dfc_est=pd.melt(dfc_est,id_vars=['COMBUSTÍVEL','ANO','ESTADO'],value_vars=[x for x in trime.keys()],var_name='TRIMESTRE', value_name='VENDAS PERÍODO').sort_values(by=['TRIMESTRE'])\n",
        "\n",
        "dfc_est['DIFERENÇA PERCENTUAL']=dfc_est['VENDAS PERÍODO'].pct_change()\n",
        "\n",
        "print(\"A diferença percentual de venda para cada trimestre do ano de 2019 do item ÓLEO DIESEL S-10 em SÂO PAULO foi:\")\n",
        "\n",
        "print(dfc_est)"
      ],
      "execution_count": 5,
      "outputs": [
        {
          "output_type": "stream",
          "text": [
            "A diferença percentual de venda para cada trimestre do ano de 2019 do item ÓLEO DIESEL S-10 em SÂO PAULO foi:\n",
            "         COMBUSTÍVEL   ANO  ... VENDAS PERÍODO DIFERENÇA PERCENTUAL\n",
            "0  ÓLEO DIESEL S-10   2019  ...     1309314.62                  nan\n",
            "1  ÓLEO DIESEL S-10   2019  ...     1499814.22                 0.15\n",
            "2  ÓLEO DIESEL S-10   2019  ...     1631752.64                 0.09\n",
            "3  ÓLEO DIESEL S-10   2019  ...     1604095.09                -0.02\n",
            "\n",
            "[4 rows x 6 columns]\n"
          ],
          "name": "stdout"
        }
      ]
    },
    {
      "cell_type": "markdown",
      "metadata": {
        "id": "wRMNdFOAHiCP"
      },
      "source": [
        "QUESTÃO 6 - Colete dados populacionais e demonstre se existe uma correlação entre a medição populacional anual e a venda total de diesel S-10 anual.(Dica: o IBGE é uma boa fonte)\n"
      ]
    },
    {
      "cell_type": "code",
      "metadata": {
        "id": "-XCck5oOHkWP",
        "colab": {
          "base_uri": "https://localhost:8080/"
        },
        "outputId": "bef212ad-028b-4134-87ab-eca6ddef8730"
      },
      "source": [
        "import pandas as pd\n",
        "\n",
        "df = pd.read_csv('https://github.com/leodjn/Pos_IESB/raw/main/base-diesel-2013-2020.csv', sep=';', decimal=',')\n",
        "pd.set_option('display.float_format', lambda x: '%.2f' % x)\n",
        "df['TOTAL'] = df['TOTAL'].astype(float)\n",
        "df['ANO'] = df['ANO'].astype(object)\n",
        "\n",
        "dfc = df.drop(['UNIDADE', 'ESTADO', 'REGIÃO', 'Jan','Fev',\t'Mar', 'Abr',\t'Mai',\t'Jun',\t'Jul',\t'Ago',\t'Set',\t'Out',\t'Nov'\t,'Dez'], axis=1)\n",
        "dff = dfc[dfc.COMBUSTÍVEL.eq('ÓLEO DIESEL S-10 ')].copy()\n",
        "dfg = dff.groupby(by=['ANO']).agg(TOTAL_VENDAS=('TOTAL','mean')).reset_index()\n",
        "\n",
        "pop=pd.read_csv('https://github.com/leodjn/Pos_IESB/raw/main/populacao_ibge.zip', compression='zip',sep=';').rename(columns={'ano':'ANO'})\n",
        "pop['ANO'] = pop['ANO'].astype(object)\n",
        "\n",
        "pop = pop.groupby(by=['ANO','cod_municipio']).agg(NU_POPULACAO_ESTIMADA=('NU_POPULACAO_ESTIMADA','mean')).reset_index()\n",
        "pop = pop.groupby(by=['ANO']).agg(NU_POPULACAO_ESTIMADA=('NU_POPULACAO_ESTIMADA','sum')).reset_index()\n",
        "\n",
        "popm = pop.query('ANO >= 2013 and ANO <= 2020')\n",
        "merge = popm.merge(dfg, left_on='ANO', right_on='ANO')\n",
        "\n",
        "corre = merge['NU_POPULACAO_ESTIMADA'].corr(merge['TOTAL_VENDAS'])\n",
        "print('O quoeficiente de correlação é de ',corre, '. O que demonstra uma correlação forte entre a venda media de diesel S-10 e a média da população em cada ano.')"
      ],
      "execution_count": 6,
      "outputs": [
        {
          "output_type": "stream",
          "text": [
            "O quoeficiente de correlação é de  0.9186642852170817 . O que demonstra uma correlação forte entre a venda media de diesel S-10 e a média da população em cada ano.\n"
          ],
          "name": "stdout"
        }
      ]
    },
    {
      "cell_type": "markdown",
      "metadata": {
        "id": "__dcm1_THkln"
      },
      "source": [
        "QUESTÃO 7 - É seguro dizer que quanto maior a população de um estado mais diesel será vendido? Justifique sua resposta com dados.\n"
      ]
    },
    {
      "cell_type": "code",
      "metadata": {
        "id": "Ef7s9gOKHmV6",
        "colab": {
          "base_uri": "https://localhost:8080/"
        },
        "outputId": "cab3d953-8194-4562-a572-c6aeb9fceb1e"
      },
      "source": [
        "import pandas as pd\n",
        "\n",
        "df = pd.read_csv('https://github.com/leodjn/Pos_IESB/raw/main/base-diesel-2013-2020.csv', sep=';', decimal=',')\n",
        "pd.set_option('display.float_format', lambda x: '%.2f' % x)\n",
        "df['TOTAL'] = df['TOTAL'].astype(float)\n",
        "df['ANO'] = df['ANO'].astype(object)\n",
        "dfc = df.drop(['UNIDADE', 'REGIÃO', 'Jan','Fev',\t'Mar', 'Abr',\t'Mai',\t'Jun',\t'Jul',\t'Ago',\t'Set',\t'Out',\t'Nov'\t,'Dez'], axis=1)\n",
        "dfg = dfc.groupby(by=['ANO','ESTADO']).agg(TOTAL_VENDAS=('TOTAL','mean')).reset_index()\n",
        "\n",
        "pop=pd.read_csv('https://github.com/leodjn/Pos_IESB/raw/main/populacao_ibge.zip', compression='zip',sep=';').rename(columns={'ano':'ANO','cod_municipio':'IBGE'})\n",
        "ibge=pd.read_csv('https://github.com/leodjn/Pos_IESB/raw/main/IBGECcodMunUF.csv', sep=';').rename(columns={'CodIBGE':'IBGE','SiglaUF':'SIGLA'})\n",
        "est=pd.read_csv('https://github.com/leodjn/Pos_IESB/raw/main/IBGEEstadosUF.csv', sep=';').rename(columns={'NO_UF':'ESTADO','SG_UF':'SIGLA'})\n",
        "estcomp = ibge.merge(est, left_on='SIGLA', right_on='SIGLA')\n",
        "popibge = estcomp.merge(pop, left_on='IBGE', right_on='IBGE')\n",
        "popibge['ANO'] = popibge['ANO'].astype(object)\n",
        "popibge = popibge.drop(['IBGE', 'IdtCadastroSRFMunicipioTom', 'CodTOM','mes','SIGLA'], axis=1)\n",
        "popmun = popibge.groupby(by=['ANO','ESTADO','NomeMunicipio']).agg(NU_POPULACAO_ESTIMADA=('NU_POPULACAO_ESTIMADA','mean')).reset_index()\n",
        "popest = popmun.groupby(by=['ANO','ESTADO']).agg(NU_POPULACAO_ESTIMADA=('NU_POPULACAO_ESTIMADA','sum')).reset_index()\n",
        "\n",
        "popgas = popest.merge(dfg, left_on=['ANO','ESTADO'], right_on=['ANO','ESTADO'])\n",
        "maispopmaisgas = popgas['NU_POPULACAO_ESTIMADA'].corr(popgas['TOTAL_VENDAS'])\n",
        "\n",
        "print('O quoeficiente de correlação entre quanto maior a população de um estado mais diesel será vendido é de ',maispopmaisgas, '. Seguramente, exite uma forte correlação entre estas variáveis.')"
      ],
      "execution_count": 7,
      "outputs": [
        {
          "output_type": "stream",
          "text": [
            "O quoeficiente de correlação entre quanto maior a população de um estado mais diesel será vendido é de  0.9328818394065902 . Seguramente, exite uma forte correlação entre estas variáveis.\n"
          ],
          "name": "stdout"
        }
      ]
    },
    {
      "cell_type": "markdown",
      "metadata": {
        "id": "jhA-g6ehHmr_"
      },
      "source": [
        "QUESTÃO 8 - Qual foi o custo mensal de diesel S-10 no DF para o ano de 2020.Considere a média dos preços coletados e que o dataset de venda apresenta dados em metros cúbicos (e o de preço em R$/litro).\n"
      ]
    },
    {
      "cell_type": "code",
      "metadata": {
        "id": "To-6RlTHHoeH"
      },
      "source": [
        "import pandas as pd\n",
        "\n",
        "df1 = pd.read_csv('https://www.gov.br/anp/pt-br/centrais-de-conteudo/dados-abertos/arquivos/shpc/dsas/ca/ca-2020-01.csv', delimiter=';',decimal=',')\n",
        "df2 = pd.read_csv('https://www.gov.br/anp/pt-br/centrais-de-conteudo/dados-abertos/arquivos/shpc/dsas/ca/ca-2020-02.csv', delimiter=';',decimal=',')\n",
        "\n"
      ],
      "execution_count": 8,
      "outputs": []
    },
    {
      "cell_type": "code",
      "metadata": {
        "colab": {
          "base_uri": "https://localhost:8080/"
        },
        "id": "pt6nW_k__J03",
        "outputId": "e50ade4b-2234-48fe-d825-59e6fdcc7d8a"
      },
      "source": [
        "dfcomb = pd.concat([df1, df2]).rename(columns={'Estado - Sigla':'ESTADO', 'Valor de Venda':'PRECO','Data da Coleta':'DATA'})\n",
        "dfcomb['DATA'] = pd.to_datetime(dfcomb['DATA'])\n",
        "dfcomb = dfcomb.drop(['Regiao - Sigla', 'Municipio', 'Revenda','CNPJ da Revenda',\t'Nome da Rua', 'Numero Rua',\t'Complemento',\t'Bairro',\t'Cep',\t'Valor de Compra',\t'Bandeira'], axis=1)\n",
        "dfcomf = dfcomb[dfcomb.Produto.eq('DIESEL S10')]\n",
        "dfcomf = dfcomf[dfcomf.ESTADO.eq('DF')]\n",
        "\n",
        "dfcommed = dfcomf.groupby(by=['ESTADO','Produto', 'DATA','Unidade de Medida']).agg(PRECO=('PRECO','mean')).reset_index()\n",
        "dfmes = dfcommed.groupby(dfcommed.DATA.dt.month).mean()\n",
        "print('O preço médio do OLEO DIESER S-10 em cada mês do ano de 2020 no DF foi de:')\n",
        "print(dfmes)\n"
      ],
      "execution_count": 9,
      "outputs": [
        {
          "output_type": "stream",
          "text": [
            "O preço médio do OLEO DIESER S-10 em cada mês do ano de 2020 no DF foi de:\n",
            "      PRECO\n",
            "DATA       \n",
            "1      3.81\n",
            "2      3.83\n",
            "3      3.79\n",
            "4      3.64\n",
            "5      3.46\n",
            "6      3.45\n",
            "7      3.51\n",
            "8      3.72\n",
            "9      3.56\n",
            "10     3.76\n",
            "11     3.59\n",
            "12     3.87\n"
          ],
          "name": "stdout"
        }
      ]
    },
    {
      "cell_type": "markdown",
      "metadata": {
        "id": "vuwgd2oTHo4L"
      },
      "source": [
        "QUESTÃO 9 -  Qual estado em 2020 gastou mais com diesel S-10 em relação a população? (um estado com 10 pessoas e que gasta 1000 reais com diesel em 2020 tem uma relação de R$ 100 reais gastos com diesel por pessoa)."
      ]
    },
    {
      "cell_type": "code",
      "metadata": {
        "id": "jrEFIfl4a8mA"
      },
      "source": [
        "import pandas as pd\n",
        "\n",
        "df1 = pd.read_csv('https://www.gov.br/anp/pt-br/centrais-de-conteudo/dados-abertos/arquivos/shpc/dsas/ca/ca-2020-01.csv', delimiter=';',decimal=',')\n",
        "df2 = pd.read_csv('https://www.gov.br/anp/pt-br/centrais-de-conteudo/dados-abertos/arquivos/shpc/dsas/ca/ca-2020-02.csv', delimiter=';',decimal=',')"
      ],
      "execution_count": null,
      "outputs": []
    },
    {
      "cell_type": "code",
      "metadata": {
        "id": "yFXRX9QDaJWo"
      },
      "source": [
        "import pandas as pd\n",
        "\n",
        "df = pd.read_csv('https://github.com/leodjn/Pos_IESB/raw/main/base-diesel-2013-2020.csv', sep=';', decimal=',')\n",
        "pd.set_option('display.float_format', lambda x: '%.2f' % x)\n",
        "df['TOTAL'] = df['TOTAL'].astype(float)\n",
        "df['ANO'] = df['ANO'].astype(object)\n",
        "dfc = df.drop(['UNIDADE', 'REGIÃO', 'Jan','Fev',\t'Mar', 'Abr',\t'Mai',\t'Jun',\t'Jul',\t'Ago',\t'Set',\t'Out',\t'Nov'\t,'Dez'], axis=1)\n",
        "dfg = dfc[dfc.ANO.eq(2020)]\n",
        "dfg = dfg[dfg.COMBUSTÍVEL.eq('ÓLEO DIESEL S-10 ')]\n",
        "dfg = dfg.groupby(by=['ANO','ESTADO','COMBUSTÍVEL']).agg(TOTAL_VENDAS=('TOTAL','mean')).reset_index()\n",
        "\n",
        "\n",
        "pop=pd.read_csv('https://github.com/leodjn/Pos_IESB/raw/main/populacao_ibge.zip', compression='zip',sep=';').rename(columns={'ano':'ANO','cod_municipio':'IBGE'})\n",
        "ibge=pd.read_csv('https://github.com/leodjn/Pos_IESB/raw/main/IBGECcodMunUF.csv', sep=';').rename(columns={'CodIBGE':'IBGE','SiglaUF':'SIGLA'})\n",
        "est=pd.read_csv('https://github.com/leodjn/Pos_IESB/raw/main/IBGEEstadosUF.csv', sep=';').rename(columns={'NO_UF':'ESTADO','SG_UF':'SIGLA'})\n",
        "estcomp = ibge.merge(est, left_on='SIGLA', right_on='SIGLA')\n",
        "popibge = estcomp.merge(pop, left_on='IBGE', right_on='IBGE')\n",
        "popibge['ANO'] = popibge['ANO'].astype(object)\n",
        "popibge = popibge.drop(['IBGE', 'IdtCadastroSRFMunicipioTom', 'CodTOM','mes'], axis=1)\n",
        "popmun = popibge.groupby(by=['ANO','ESTADO','NomeMunicipio','SIGLA']).agg(NU_POPULACAO_ESTIMADA=('NU_POPULACAO_ESTIMADA','mean')).reset_index()\n",
        "popest = popmun.groupby(by=['ANO','ESTADO','SIGLA']).agg(NU_POPULACAO_ESTIMADA=('NU_POPULACAO_ESTIMADA','sum')).reset_index()\n",
        "popest = popest[popest.ANO.eq(2020)]\n",
        "\n",
        "\n",
        "dfcomb = pd.concat([df1, df2]).rename(columns={'Estado - Sigla':'ESTADO', 'Valor de Venda':'PRECO','Data da Coleta':'DATA'})\n",
        "dfcomb['DATA'] = pd.to_datetime(dfcomb['DATA'])\n",
        "dfcomb = dfcomb.drop(['Regiao - Sigla', 'Municipio', 'Revenda','CNPJ da Revenda',\t'Nome da Rua', 'Numero Rua',\t'Complemento',\t'Bairro',\t'Cep',\t'Valor de Compra',\t'Bandeira'], axis=1)\n",
        "dfcomb['ANO'] = dfcomb.DATA.dt.year\n",
        "dfcommed = dfcomb.groupby(by=['ESTADO', 'ANO',]).agg(PRECO=('PRECO','mean')).reset_index()\n",
        "\n",
        "popgas = popest.merge(dfg, left_on=['ANO','ESTADO'], right_on=['ANO','ESTADO'])\n",
        "gascusto = popgas.merge(dfcommed, left_on=['SIGLA'], right_on=['ESTADO']) \n",
        "gascusto = gascusto.drop(['ANO_x', 'SIGLA', 'ESTADO_y'], axis=1).rename(columns={'ESTADO_x':'ESTADO', 'NU_POPULACAO_ESTIMADA':'POPULAÇÃO','TOTAL_VENDAS':'VENDAS', 'ANO_y':'ANO' })\n",
        "\n",
        "gascusto['GASTO'] = gascusto['VENDAS']*gascusto['PRECO']\n",
        "gascusto['QUOCIENTE'] = gascusto['GASTO']/gascusto['POPULAÇÃO']\n",
        "\n",
        "\n",
        "gascusto.head()\n",
        "\n",
        "maior = gascusto.sort_values(['QUOCIENTE'],ascending=[False]).head(1)\n",
        "print('O estado que em 2020 gastou mais com diesel S-10 em relação a população foi:')\n",
        "print(maior)"
      ],
      "execution_count": null,
      "outputs": []
    },
    {
      "cell_type": "code",
      "metadata": {
        "id": "dM9qHXdVbE4D"
      },
      "source": [
        ""
      ],
      "execution_count": null,
      "outputs": []
    }
  ]
}